{
 "cells": [
  {
   "cell_type": "markdown",
   "id": "3982592a-d240-44c2-8ade-146fb43b4153",
   "metadata": {},
   "source": [
    "# Important Libraries"
   ]
  },
  {
   "cell_type": "code",
   "execution_count": 1,
   "id": "89f8291a-0beb-4185-ab23-8a8e22930bae",
   "metadata": {},
   "outputs": [],
   "source": [
    "import pandas as pd\n",
    "import spacy\n",
    "import neattext.functions as nfx\n",
    "from sklearn.model_selection import train_test_split\n",
    "from sklearn.pipeline import Pipeline\n",
    "from sklearn.feature_extraction.text import CountVectorizer\n",
    "from sklearn.linear_model import LogisticRegression\n",
    "from sklearn.svm import SVC\n",
    "from sklearn.ensemble import RandomForestClassifier\n",
    "import joblib"
   ]
  },
  {
   "cell_type": "markdown",
   "id": "bfd29c31-8568-433d-a35b-dca4b1e470d3",
   "metadata": {},
   "source": [
    "# Load the dataset"
   ]
  },
  {
   "cell_type": "code",
   "execution_count": 2,
   "id": "2c20cebe-c8a2-4a52-b626-b01c0a5f0f40",
   "metadata": {},
   "outputs": [
    {
     "data": {
      "text/html": [
       "<div>\n",
       "<style scoped>\n",
       "    .dataframe tbody tr th:only-of-type {\n",
       "        vertical-align: middle;\n",
       "    }\n",
       "\n",
       "    .dataframe tbody tr th {\n",
       "        vertical-align: top;\n",
       "    }\n",
       "\n",
       "    .dataframe thead th {\n",
       "        text-align: right;\n",
       "    }\n",
       "</style>\n",
       "<table border=\"1\" class=\"dataframe\">\n",
       "  <thead>\n",
       "    <tr style=\"text-align: right;\">\n",
       "      <th></th>\n",
       "      <th>Unnamed: 0</th>\n",
       "      <th>Job Title</th>\n",
       "      <th>Job Description</th>\n",
       "    </tr>\n",
       "  </thead>\n",
       "  <tbody>\n",
       "    <tr>\n",
       "      <th>0</th>\n",
       "      <td>0</td>\n",
       "      <td>Flutter Developer</td>\n",
       "      <td>We are looking for hire experts flutter develo...</td>\n",
       "    </tr>\n",
       "    <tr>\n",
       "      <th>1</th>\n",
       "      <td>1</td>\n",
       "      <td>Django Developer</td>\n",
       "      <td>PYTHON/DJANGO (Developer/Lead) - Job Code(PDJ ...</td>\n",
       "    </tr>\n",
       "    <tr>\n",
       "      <th>2</th>\n",
       "      <td>2</td>\n",
       "      <td>Machine Learning</td>\n",
       "      <td>Data Scientist (Contractor)\\n\\nBangalore, IN\\n...</td>\n",
       "    </tr>\n",
       "    <tr>\n",
       "      <th>3</th>\n",
       "      <td>3</td>\n",
       "      <td>iOS Developer</td>\n",
       "      <td>JOB DESCRIPTION:\\n\\nStrong framework outside o...</td>\n",
       "    </tr>\n",
       "    <tr>\n",
       "      <th>4</th>\n",
       "      <td>4</td>\n",
       "      <td>Full Stack Developer</td>\n",
       "      <td>job responsibility full stack engineer – react...</td>\n",
       "    </tr>\n",
       "    <tr>\n",
       "      <th>5</th>\n",
       "      <td>5</td>\n",
       "      <td>Java Developer</td>\n",
       "      <td>Software Developer - Integration*\\nImmediate O...</td>\n",
       "    </tr>\n",
       "    <tr>\n",
       "      <th>6</th>\n",
       "      <td>6</td>\n",
       "      <td>Full Stack Developer</td>\n",
       "      <td>senior full stack developer \\- 1800026h cwt lo...</td>\n",
       "    </tr>\n",
       "    <tr>\n",
       "      <th>7</th>\n",
       "      <td>7</td>\n",
       "      <td>JavaScript Developer</td>\n",
       "      <td>Job Description:\\n\\nReactJS + NodeJs, Azure Fu...</td>\n",
       "    </tr>\n",
       "    <tr>\n",
       "      <th>8</th>\n",
       "      <td>8</td>\n",
       "      <td>DevOps Engineer</td>\n",
       "      <td>Main Responsibilities and Deliverables:\\nManag...</td>\n",
       "    </tr>\n",
       "    <tr>\n",
       "      <th>9</th>\n",
       "      <td>9</td>\n",
       "      <td>Software Engineer</td>\n",
       "      <td>Overview\\n\\n\\nBased in Silicon Valley, Tintri ...</td>\n",
       "    </tr>\n",
       "  </tbody>\n",
       "</table>\n",
       "</div>"
      ],
      "text/plain": [
       "   Unnamed: 0             Job Title  \\\n",
       "0           0     Flutter Developer   \n",
       "1           1      Django Developer   \n",
       "2           2      Machine Learning   \n",
       "3           3         iOS Developer   \n",
       "4           4  Full Stack Developer   \n",
       "5           5        Java Developer   \n",
       "6           6  Full Stack Developer   \n",
       "7           7  JavaScript Developer   \n",
       "8           8       DevOps Engineer   \n",
       "9           9     Software Engineer   \n",
       "\n",
       "                                     Job Description  \n",
       "0  We are looking for hire experts flutter develo...  \n",
       "1  PYTHON/DJANGO (Developer/Lead) - Job Code(PDJ ...  \n",
       "2  Data Scientist (Contractor)\\n\\nBangalore, IN\\n...  \n",
       "3  JOB DESCRIPTION:\\n\\nStrong framework outside o...  \n",
       "4  job responsibility full stack engineer – react...  \n",
       "5  Software Developer - Integration*\\nImmediate O...  \n",
       "6  senior full stack developer \\- 1800026h cwt lo...  \n",
       "7  Job Description:\\n\\nReactJS + NodeJs, Azure Fu...  \n",
       "8  Main Responsibilities and Deliverables:\\nManag...  \n",
       "9  Overview\\n\\n\\nBased in Silicon Valley, Tintri ...  "
      ]
     },
     "execution_count": 2,
     "metadata": {},
     "output_type": "execute_result"
    }
   ],
   "source": [
    "df = pd.read_csv(r\"C:\\Users\\HP 440 G5\\Downloads\\job_title_des.csv\")\n",
    "df.head(10)"
   ]
  },
  {
   "cell_type": "markdown",
   "id": "932426fa-94a1-40ae-b5eb-46384819b05d",
   "metadata": {},
   "source": [
    "# Checking Data "
   ]
  },
  {
   "cell_type": "code",
   "execution_count": 3,
   "id": "af4a26ce-c734-475e-96a9-d0e423b3620d",
   "metadata": {},
   "outputs": [
    {
     "data": {
      "text/plain": [
       "(2277, 3)"
      ]
     },
     "execution_count": 3,
     "metadata": {},
     "output_type": "execute_result"
    }
   ],
   "source": [
    "df.shape"
   ]
  },
  {
   "cell_type": "code",
   "execution_count": 4,
   "id": "6ccfeec3-351b-4cfc-b762-97dcd507816f",
   "metadata": {},
   "outputs": [
    {
     "data": {
      "text/plain": [
       "Index(['Unnamed: 0', 'Job Title', 'Job Description'], dtype='object')"
      ]
     },
     "execution_count": 4,
     "metadata": {},
     "output_type": "execute_result"
    }
   ],
   "source": [
    "df.columns"
   ]
  },
  {
   "cell_type": "code",
   "execution_count": 5,
   "id": "b45059cb-dcd2-4c3c-8628-7269fdc3323d",
   "metadata": {},
   "outputs": [],
   "source": [
    "df = df.drop(columns=['Unnamed: 0'])"
   ]
  },
  {
   "cell_type": "code",
   "execution_count": 6,
   "id": "f2ef4f64-d5ab-4ab1-a728-095ec1c0736c",
   "metadata": {},
   "outputs": [
    {
     "data": {
      "text/plain": [
       "Index(['Job Title', 'Job Description'], dtype='object')"
      ]
     },
     "execution_count": 6,
     "metadata": {},
     "output_type": "execute_result"
    }
   ],
   "source": [
    "df.columns"
   ]
  },
  {
   "cell_type": "code",
   "execution_count": 7,
   "id": "60a485fd-742f-467a-b996-5952d1bf92e8",
   "metadata": {},
   "outputs": [
    {
     "data": {
      "text/plain": [
       "Job Title\n",
       "JavaScript Developer      166\n",
       "Java Developer            161\n",
       "Software Engineer         160\n",
       "Node js developer         160\n",
       "iOS Developer             159\n",
       "PHP Developer             156\n",
       "Flutter Developer         155\n",
       "DevOps Engineer           155\n",
       "Django Developer          152\n",
       "Machine Learning          152\n",
       "Backend Developer         147\n",
       "Network Administrator     145\n",
       "Database Administrator    139\n",
       "Full Stack Developer      138\n",
       "Wordpress Developer       132\n",
       "Name: count, dtype: int64"
      ]
     },
     "execution_count": 7,
     "metadata": {},
     "output_type": "execute_result"
    }
   ],
   "source": [
    "df['Job Title'].value_counts()\n"
   ]
  },
  {
   "cell_type": "code",
   "execution_count": 8,
   "id": "3e0181bd-4e66-493f-abdc-5d9912e8048c",
   "metadata": {},
   "outputs": [],
   "source": [
    "nlp = spacy.load(\"en_core_web_sm\")"
   ]
  },
  {
   "cell_type": "code",
   "execution_count": 9,
   "id": "db208571-1dc4-433b-a2ab-00aa4704c517",
   "metadata": {},
   "outputs": [],
   "source": [
    "def preprocess(text):\n",
    "    text = nfx.remove_userhandles(text)\n",
    "    text = nfx.remove_stopwords(text)\n",
    "    doc = nlp(text.lower())\n",
    "    \n",
    "    tokens = []\n",
    "    for token in doc:\n",
    "        if token.is_alpha and not token.is_stop:\n",
    "            # Keep \"data\" as is\n",
    "            if token.text.lower() == \"data\":\n",
    "                tokens.append(\"data\")\n",
    "            else:\n",
    "                tokens.append(token.lemma_)\n",
    "    \n",
    "    return \" \".join(tokens)\n"
   ]
  },
  {
   "cell_type": "code",
   "execution_count": 10,
   "id": "d1b9a130-f7ed-4702-a2e2-ea6457f517f9",
   "metadata": {
    "scrolled": true
   },
   "outputs": [
    {
     "data": {
      "text/html": [
       "<div>\n",
       "<style scoped>\n",
       "    .dataframe tbody tr th:only-of-type {\n",
       "        vertical-align: middle;\n",
       "    }\n",
       "\n",
       "    .dataframe tbody tr th {\n",
       "        vertical-align: top;\n",
       "    }\n",
       "\n",
       "    .dataframe thead th {\n",
       "        text-align: right;\n",
       "    }\n",
       "</style>\n",
       "<table border=\"1\" class=\"dataframe\">\n",
       "  <thead>\n",
       "    <tr style=\"text-align: right;\">\n",
       "      <th></th>\n",
       "      <th>Job Description</th>\n",
       "      <th>Clean_Description</th>\n",
       "    </tr>\n",
       "  </thead>\n",
       "  <tbody>\n",
       "    <tr>\n",
       "      <th>0</th>\n",
       "      <td>We are looking for hire experts flutter develo...</td>\n",
       "      <td>look hire expert flutter developer eligible po...</td>\n",
       "    </tr>\n",
       "    <tr>\n",
       "      <th>1</th>\n",
       "      <td>PYTHON/DJANGO (Developer/Lead) - Job Code(PDJ ...</td>\n",
       "      <td>python django developer lead job strong python...</td>\n",
       "    </tr>\n",
       "    <tr>\n",
       "      <th>2</th>\n",
       "      <td>Data Scientist (Contractor)\\n\\nBangalore, IN\\n...</td>\n",
       "      <td>data scientist contractor bangalore responsibi...</td>\n",
       "    </tr>\n",
       "  </tbody>\n",
       "</table>\n",
       "</div>"
      ],
      "text/plain": [
       "                                     Job Description  \\\n",
       "0  We are looking for hire experts flutter develo...   \n",
       "1  PYTHON/DJANGO (Developer/Lead) - Job Code(PDJ ...   \n",
       "2  Data Scientist (Contractor)\\n\\nBangalore, IN\\n...   \n",
       "\n",
       "                                   Clean_Description  \n",
       "0  look hire expert flutter developer eligible po...  \n",
       "1  python django developer lead job strong python...  \n",
       "2  data scientist contractor bangalore responsibi...  "
      ]
     },
     "execution_count": 10,
     "metadata": {},
     "output_type": "execute_result"
    }
   ],
   "source": [
    "df['Clean_Description'] = df['Job Description'].apply(preprocess)\n",
    "df[['Job Description', 'Clean_Description']].head(3)\n"
   ]
  },
  {
   "cell_type": "code",
   "execution_count": 11,
   "id": "0398a863-9f41-4348-a3c5-2db06459d827",
   "metadata": {},
   "outputs": [
    {
     "data": {
      "text/plain": [
       "Index(['Job Title', 'Job Description', 'Clean_Description'], dtype='object')"
      ]
     },
     "execution_count": 11,
     "metadata": {},
     "output_type": "execute_result"
    }
   ],
   "source": [
    "df.columns"
   ]
  },
  {
   "cell_type": "code",
   "execution_count": 12,
   "id": "dc717de9-5126-40ea-b3ed-e35c2100e0d4",
   "metadata": {},
   "outputs": [],
   "source": [
    "X = df['Clean_Description']\n",
    "y = df['Job Title']\n",
    "X_train, X_test, y_train, y_test = train_test_split(X, y, test_size=0.2, random_state=42, stratify=y)\n"
   ]
  },
  {
   "cell_type": "code",
   "execution_count": 13,
   "id": "d51d18ae-9e39-4907-acdf-deb0f5fb0f31",
   "metadata": {},
   "outputs": [
    {
     "name": "stdout",
     "output_type": "stream",
     "text": [
      "Logistic Regression Accuracy: 0.8026\n"
     ]
    }
   ],
   "source": [
    "log_reg_pipeline = Pipeline([('vectorizer', CountVectorizer()),('classifier', LogisticRegression(max_iter=200))])\n",
    "log_reg_pipeline.fit(X_train, y_train)\n",
    "log_reg_score = log_reg_pipeline.score(X_test, y_test)\n",
    "print(f\"Logistic Regression Accuracy: {log_reg_score:.4f}\")"
   ]
  },
  {
   "cell_type": "code",
   "execution_count": 14,
   "id": "d5502d61-9078-4511-b7c0-34cfc673b5f4",
   "metadata": {},
   "outputs": [
    {
     "name": "stdout",
     "output_type": "stream",
     "text": [
      "Support Vector Machine Accuracy: 0.7675\n"
     ]
    }
   ],
   "source": [
    "svm_pipeline = Pipeline([\n",
    "    ('vectorizer', CountVectorizer()),\n",
    "    ('classifier', SVC(kernel='linear'))\n",
    "])\n",
    "svm_pipeline.fit(X_train, y_train)\n",
    "\n",
    "svm_score = svm_pipeline.score(X_test, y_test)\n",
    "print(f\"Support Vector Machine Accuracy: {svm_score:.4f}\")\n"
   ]
  },
  {
   "cell_type": "code",
   "execution_count": 15,
   "id": "2bf44a67-2118-4d5d-8ec1-4b9cf890fce6",
   "metadata": {},
   "outputs": [
    {
     "name": "stdout",
     "output_type": "stream",
     "text": [
      "Random Forest Accuracy: 0.7961\n"
     ]
    }
   ],
   "source": [
    "rf_pipeline = Pipeline([\n",
    "    ('vectorizer', CountVectorizer()),\n",
    "    ('classifier', RandomForestClassifier(n_estimators=100))])\n",
    "rf_pipeline.fit(X_train, y_train)\n",
    "rf_score = rf_pipeline.score(X_test, y_test)\n",
    "print(f\"Random Forest Accuracy: {rf_score:.4f}\")\n"
   ]
  },
  {
   "cell_type": "code",
   "execution_count": null,
   "id": "470b91f5-cc7d-4eb8-ade9-c06df7a8eb08",
   "metadata": {},
   "outputs": [
    {
     "name": "stdout",
     "output_type": "stream",
     "text": [
      "\n",
      "=== Job Recommendation System === (Type 'exit' to quit)\n"
     ]
    },
    {
     "name": "stdin",
     "output_type": "stream",
     "text": [
      "Enter your skills (comma separated):  python,java,sql\n"
     ]
    },
    {
     "name": "stdout",
     "output_type": "stream",
     "text": [
      "\n",
      "Recommended Jobs Based on Your Skills:\n",
      "- Django Developer\n",
      "- Software Engineer\n",
      "- Network Administrator\n",
      "\n"
     ]
    }
   ],
   "source": [
    "print(\"\\n=== Job Recommendation System === (Type 'exit' to quit)\")\n",
    "while True:\n",
    "    user_input = input(\"Enter your skills (comma separated): \")\n",
    "    if user_input.lower() == \"exit\":\n",
    "        print(\"Goodbye!\")\n",
    "        break\n",
    "\n",
    "    skills = [skill.strip() for skill in user_input.split(',') if skill.strip()]\n",
    "    recommended_jobs = set()\n",
    "\n",
    "    for skill in skills:\n",
    "        clean_skill = preprocess(skill)\n",
    "        predicted_job = log_reg_pipeline.predict([clean_skill])[0]\n",
    "        recommended_jobs.add(predicted_job)\n",
    "\n",
    "    print(\"\\nRecommended Jobs Based on Your Skills:\")\n",
    "    for job in recommended_jobs:\n",
    "        print(f\"- {job}\")\n",
    "    print()\n"
   ]
  },
  {
   "cell_type": "code",
   "execution_count": null,
   "id": "8b73954c-eda9-410e-8bd2-b84152f90088",
   "metadata": {},
   "outputs": [],
   "source": []
  },
  {
   "cell_type": "code",
   "execution_count": null,
   "id": "0b72c835-aad6-4a07-a410-fb98ed35eeba",
   "metadata": {},
   "outputs": [],
   "source": []
  }
 ],
 "metadata": {
  "kernelspec": {
   "display_name": "Python 3 (ipykernel)",
   "language": "python",
   "name": "python3"
  },
  "language_info": {
   "codemirror_mode": {
    "name": "ipython",
    "version": 3
   },
   "file_extension": ".py",
   "mimetype": "text/x-python",
   "name": "python",
   "nbconvert_exporter": "python",
   "pygments_lexer": "ipython3",
   "version": "3.12.5"
  }
 },
 "nbformat": 4,
 "nbformat_minor": 5
}
